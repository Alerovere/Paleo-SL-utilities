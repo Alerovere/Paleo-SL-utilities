{
 "cells": [
  {
   "cell_type": "markdown",
   "metadata": {},
   "source": [
    "# Long-term VLM calculation\n",
    "***code prepared by Alessio Rovere, MARUM, University of Bremen, DE. Contact: arovere@marum.de<br>\n",
    "Date: 27/02/2020***\n",
    "\n",
    "This simple script calculates long-term vertical land motion (VLM) rates from four inputs: \n",
    "\n",
    "1. An eustatic sea level (ESL) estimate for a given time period (interval, with max-min)\n",
    "2. The time interval (Time) (interval, max-min)\n",
    "3. GIA corrections for the same time period (mean and standard deviation)\n",
    "4. Observed Relative sea level (RSL) for the same period (mean and standard deviation)\n",
    "\n",
    "With these inputs, the script calculates long-term uplift rates with the following rationale:\n",
    "\n",
    "1. The ESL estimate and Time are sampled uniformly, with no assumptions on their probability distribution\n",
    "2. GIA and RSL are sampled as normally distributed\n",
    "3. The calculation of the rate is iterated 1.000.000 times with the formula (RSL − GIA − ESL)/Time\n",
    "4. A histogram plot is provided with percentile bounds\n",
    "\n",
    "## General comments\n",
    "Considering ESL and Time as uniformly distributed is not optimal. Please suggest improvements and bugs to arovere@marum.de\n",
    "\n",
    "## Inputs\n",
    "The input data used un the example is derived from Hearty et al., 2020 (https://doi.org/10.1029/2019PA003835). This script is referenced in the discussions of the paper."
   ]
  },
  {
   "cell_type": "code",
   "execution_count": 1,
   "metadata": {},
   "outputs": [],
   "source": [
    "#Inputs (change here)\n",
    "\n",
    "#Max and min ESL [m]\n",
    "ESLmin=10.6\n",
    "ESLmax=28.3\n",
    "\n",
    "#GIA [m]\n",
    "muGIA=-3.6\n",
    "sdGIA=1.2\n",
    "\n",
    "#RSL [m]\n",
    "muRSL=35.1\n",
    "sdRSL=2.2\n",
    "\n",
    "#Time [Ma]\n",
    "maxTime=4.87\n",
    "minTime=4.28"
   ]
  },
  {
   "cell_type": "code",
   "execution_count": 2,
   "metadata": {},
   "outputs": [],
   "source": [
    "# Calculations\n",
    "import numpy as np\n",
    "import random\n",
    "\n",
    "Rate=[]\n",
    "val = np.linspace(0, 1000000, num=1000001)\n",
    "\n",
    "#Creates a matrix randomly sampling the inputs\n",
    "for x in val:\n",
    " ESL=random.uniform(ESLmin, ESLmax)\n",
    " Time=random.uniform(maxTime, minTime)\n",
    " RSL=np.random.normal(muRSL, sdRSL, 1)\n",
    " GIA=np.random.normal(muGIA, sdGIA, 1)\n",
    " Rate.append((RSL-GIA-ESL)/Time)"
   ]
  },
  {
   "cell_type": "code",
   "execution_count": 3,
   "metadata": {},
   "outputs": [
    {
     "data": {
      "text/html": [
       "<div>\n",
       "<style scoped>\n",
       "    .dataframe tbody tr th:only-of-type {\n",
       "        vertical-align: middle;\n",
       "    }\n",
       "\n",
       "    .dataframe tbody tr th {\n",
       "        vertical-align: top;\n",
       "    }\n",
       "\n",
       "    .dataframe thead th {\n",
       "        text-align: right;\n",
       "    }\n",
       "</style>\n",
       "<table border=\"1\" class=\"dataframe\">\n",
       "  <thead>\n",
       "    <tr style=\"text-align: right;\">\n",
       "      <th></th>\n",
       "      <th>10th</th>\n",
       "      <th>33rd</th>\n",
       "      <th>50th</th>\n",
       "      <th>66th</th>\n",
       "      <th>90th</th>\n",
       "    </tr>\n",
       "  </thead>\n",
       "  <tbody>\n",
       "    <tr>\n",
       "      <th>Rate (m/Ma)</th>\n",
       "      <td>2.6</td>\n",
       "      <td>3.5</td>\n",
       "      <td>4.2</td>\n",
       "      <td>4.8</td>\n",
       "      <td>5.9</td>\n",
       "    </tr>\n",
       "  </tbody>\n",
       "</table>\n",
       "</div>"
      ],
      "text/plain": [
       "             10th  33rd  50th  66th  90th\n",
       "Rate (m/Ma)   2.6   3.5   4.2   4.8   5.9"
      ]
     },
     "execution_count": 3,
     "metadata": {},
     "output_type": "execute_result"
    },
    {
     "data": {
      "image/png": "[encoded data removed]",
      "text/plain": [
       "<Figure size 432x288 with 1 Axes>"
      ]
     },
     "metadata": {},
     "output_type": "display_data"
    }
   ],
   "source": [
    "#Plots\n",
    "\n",
    "import seaborn as sns\n",
    "import matplotlib.pyplot as plt\n",
    "\n",
    "sns.set(style=\"white\", palette=\"muted\", color_codes=True)\n",
    "ax = sns.distplot(Rate)\n",
    "ax.set(xlabel='Rate [m/Ma]')\n",
    "\n",
    "import pandas as pd\n",
    "Perc = [(np.percentile(Rate,10)),(np.percentile(Rate,33)),(np.percentile(Rate, 50)),(np.percentile(Rate, 66)),(np.percentile(Rate, 90))]\n",
    "Perc_Rate = pd.DataFrame(Perc, index = ['10th' , '33rd', '50th','66th' , '90th'], columns=['Rate (m/Ma)'])\n",
    "Perc_Rate=Perc_Rate.round(1).T\n",
    "Perc_Rate"
   ]
  },
  {
   "cell_type": "markdown",
   "metadata": {},
   "source": [
    "***\n",
    "## License\n",
    "This software is relased under the MIT license.\n",
    "\n",
    "Copyright 2020 Alessio Rovere\n",
    "\n",
    "Permission is hereby granted, free of charge, to any person obtaining a copy of this software and associated documentation files (the \"Software\"), to deal in the Software without restriction, including without limitation the rights to use, copy, modify, merge, publish, distribute, sublicense, and/or sell copies of the Software, and to permit persons to whom the Software is furnished to do so, subject to the following conditions: The above copyright notice and this permission notice shall be included in all copies or substantial portions of the Software.\n",
    "\n",
    "THE SOFTWARE IS PROVIDED \"AS IS\", WITHOUT WARRANTY OF ANY KIND, EXPRESS OR IMPLIED, INCLUDING BUT NOT LIMITED TO THE WARRANTIES OF MERCHANTABILITY, FITNESS FOR A PARTICULAR PURPOSE AND NONINFRINGEMENT. IN NO EVENT SHALL THE AUTHORS OR COPYRIGHT HOLDERS BE LIABLE FOR ANY CLAIM, DAMAGES OR OTHER LIABILITY, WHETHER IN AN ACTION OF CONTRACT, TORT OR OTHERWISE, ARISING FROM, OUT OF OR IN CONNECTION WITH THE SOFTWARE OR THE USE OR OTHER DEALINGS IN THE SOFTWARE.\n",
    "***\n",
    "# Research funding acknowledgments\n",
    "This script was created in the framework of the European Reasearch Council Starting Grant WARMCOASTS (Grant Agreement Number 802414), funded under the European Union's Horizon 2020 research and Innovation programme.\n",
    "***\n",
    "# How to cite\n",
    "<a href=\"https://zenodo.org/badge/latestdoi/243504113\"><img align=\"left\" src=\"https://zenodo.org/badge/243504113.svg\" alt=\"DOI\"></a>\n",
    "<br>"
   ]
  }
 ],
 "metadata": {
  "kernelspec": {
   "display_name": "Python 3",
   "language": "python",
   "name": "python3"
  },
  "language_info": {
   "codemirror_mode": {
    "name": "ipython",
    "version": 3
   },
   "file_extension": ".py",
   "mimetype": "text/x-python",
   "name": "python",
   "nbconvert_exporter": "python",
   "pygments_lexer": "ipython3",
   "version": "3.6.9"
  }
 },
 "nbformat": 4,
 "nbformat_minor": 2
}
