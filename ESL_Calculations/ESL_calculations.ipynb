{
 "cells": [
  {
   "cell_type": "markdown",
   "metadata": {},
   "source": [
    "# ESL calculations\n",
    "***code prepared by Alessio Rovere, MARUM, University of Bremen, DE. Contact: arovere@marum.de<br>\n",
    "Date: 04/06/2020***\n",
    "\n",
    "This script calculates global mean sea level from paleo RSL data and estiamtes of GIA and vertical land motions.  \n",
    "\n",
    "1. Paleo Relative Sea Level (RSL) and associated uncertainty.\n",
    "2. Glacial Isostatic Adjustment (GIA) prediction and associated standard deviation\n",
    "3. Vertical land motion (VLM) rate and associated uncertainty\n",
    "4. Age and associated uncertainty\n",
    "\n",
    "ESL is calculated following the formulas summarized in Table 1 of Rovere et al., 2016 (*Earth Science Reviews*, **159**).\n",
    "The script allows to compare ESL calculated from two different indicators and a set of reference values."
   ]
  },
  {
   "cell_type": "code",
   "execution_count": 71,
   "metadata": {},
   "outputs": [],
   "source": [
    "import pandas as pd\n",
    "import numpy as np\n",
    "import matplotlib.pyplot as plt\n",
    "import scipy.stats"
   ]
  },
  {
   "cell_type": "markdown",
   "metadata": {},
   "source": [
    "## RSL indicator 1\n",
    "Data for the first RSL indicator."
   ]
  },
  {
   "cell_type": "code",
   "execution_count": 72,
   "metadata": {},
   "outputs": [],
   "source": [
    "#Insert data here\n",
    "RSL1mu = 36.2 #meters\n",
    "RSL1sd = 2.7 \n",
    "\n",
    "GIA1mu = -14.6 #meters\n",
    "GIA1sd = 3.2\n",
    "\n",
    "VLR1mu = 5.74 #m/Ma\n",
    "VLR1sd = 1.8\n",
    "\n",
    "Age1mu = 4.98 #Ma\n",
    "Age1sd = 0.23"
   ]
  },
  {
   "cell_type": "markdown",
   "metadata": {},
   "source": [
    "## RSL indicator 2\n",
    "Data for the first RSL indicator."
   ]
  },
  {
   "cell_type": "code",
   "execution_count": 73,
   "metadata": {},
   "outputs": [],
   "source": [
    "#Insert data here\n",
    "RSL2mu = 35.1 #meters\n",
    "RSL2sd = 2.2 \n",
    "\n",
    "GIA2mu = -9.6 #meters\n",
    "GIA2sd = 1.6\n",
    "\n",
    "VLR2mu = 4.65 #m/Ma\n",
    "VLR2sd = 7.79\n",
    "\n",
    "Age2mu= 4.63\n",
    "Age2sd= 0.36"
   ]
  },
  {
   "cell_type": "markdown",
   "metadata": {},
   "source": [
    "# Calculate and plot ESL"
   ]
  },
  {
   "cell_type": "code",
   "execution_count": 74,
   "metadata": {},
   "outputs": [],
   "source": [
    "VLM1mu=VLR1mu*Age1mu\n",
    "VLM1sd=np.abs(VLM1mu)*(np.sqrt(np.square(VLR1sd/VLR1mu)+np.square(Age1sd/Age1mu)))\n",
    "ESL1mu=RSL1mu-GIA1mu-VLM1mu\n",
    "ESL1sd=np.sqrt(np.square(RSL1sd)+np.square(GIA1sd)+np.square(VLM1sd))\n",
    "\n",
    "VLM2mu=VLR2mu*Age2mu\n",
    "VLM2sd=np.abs(VLM2mu)*(np.sqrt(np.square(VLR2sd/VLR2mu)+np.square(Age2sd/Age2mu)))\n",
    "ESL2mu=RSL2mu-GIA2mu-VLM2mu\n",
    "ESL2sd=np.sqrt(np.square(RSL2sd)+np.square(GIA2sd)+np.square(VLM2sd))"
   ]
  },
  {
   "cell_type": "code",
   "execution_count": 75,
   "metadata": {},
   "outputs": [
    {
     "data": {
      "image/png": "[encoded data removed]",
      "text/plain": [
       "<Figure size 576x288 with 1 Axes>"
      ]
     },
     "metadata": {
      "needs_background": "light"
     },
     "output_type": "display_data"
    }
   ],
   "source": [
    "#Plots\n",
    "x = np.linspace(-50, 100, 1000)\n",
    "y = scipy.stats.norm.pdf(x,ESL1mu,ESL1sd)\n",
    "y2 = scipy.stats.norm.pdf(x,ESL2mu,ESL2sd)\n",
    "fig, ax = plt.subplots(1,figsize=(8,4))\n",
    "ax.plot(x, y,label='Argentina')\n",
    "ax.plot(x, y2,label='South Africa')\n",
    "ax.fill_between(x, y, alpha='0.2')\n",
    "ax.fill_between(x, y2, alpha='0.2')\n",
    "ax.set_xlabel('Global mean sea level [m]')\n",
    "ax.set_yticks([]) \n",
    "plt.axvline(x=10.6, color='k', linestyle='dotted')\n",
    "plt.axvline(x=25.1, color='k',label='Spain')\n",
    "plt.axvline(x=28.3, color='k', linestyle='dotted')\n",
    "ax.legend(loc='best')\n",
    "plt.show()"
   ]
  },
  {
   "cell_type": "code",
   "execution_count": 76,
   "metadata": {},
   "outputs": [
    {
     "data": {
      "text/plain": [
       "(22.2148, 9.981293705727731)"
      ]
     },
     "execution_count": 76,
     "metadata": {},
     "output_type": "execute_result"
    }
   ],
   "source": [
    "ESL1mu,ESL1sd"
   ]
  },
  {
   "cell_type": "code",
   "execution_count": 77,
   "metadata": {},
   "outputs": [
    {
     "data": {
      "text/plain": [
       "(23.1705, 36.20885608922215)"
      ]
     },
     "execution_count": 77,
     "metadata": {},
     "output_type": "execute_result"
    }
   ],
   "source": [
    "ESL2mu,ESL2sd"
   ]
  },
  {
   "cell_type": "markdown",
   "metadata": {},
   "source": [
    "***\n",
    "## License\n",
    "This software is relased under the MIT license.\n",
    "\n",
    "Copyright 2020 Alessio Rovere\n",
    "\n",
    "Permission is hereby granted, free of charge, to any person obtaining a copy of this software and associated documentation files (the \"Software\"), to deal in the Software without restriction, including without limitation the rights to use, copy, modify, merge, publish, distribute, sublicense, and/or sell copies of the Software, and to permit persons to whom the Software is furnished to do so, subject to the following conditions: The above copyright notice and this permission notice shall be included in all copies or substantial portions of the Software.\n",
    "\n",
    "THE SOFTWARE IS PROVIDED \"AS IS\", WITHOUT WARRANTY OF ANY KIND, EXPRESS OR IMPLIED, INCLUDING BUT NOT LIMITED TO THE WARRANTIES OF MERCHANTABILITY, FITNESS FOR A PARTICULAR PURPOSE AND NONINFRINGEMENT. IN NO EVENT SHALL THE AUTHORS OR COPYRIGHT HOLDERS BE LIABLE FOR ANY CLAIM, DAMAGES OR OTHER LIABILITY, WHETHER IN AN ACTION OF CONTRACT, TORT OR OTHERWISE, ARISING FROM, OUT OF OR IN CONNECTION WITH THE SOFTWARE OR THE USE OR OTHER DEALINGS IN THE SOFTWARE.\n",
    "***\n",
    "# Research funding acknowledgments\n",
    "This script and associated data were created in the framework of the European Reasearch Council Starting Grant WARMCOASTS (Grant Agreement Number 802414), funded under the European Union's Horizon 2020 research and Innovation programme.\n",
    "***\n",
    "# How to cite\n",
    "<a href=\"https://zenodo.org/badge/latestdoi/243504113\"><img align=\"left\" src=\"https://zenodo.org/badge/243504113.svg\" alt=\"DOI\"></a>\n",
    "<br>"
   ]
  }
 ],
 "metadata": {
  "kernelspec": {
   "display_name": "Python 3",
   "language": "python",
   "name": "python3"
  },
  "language_info": {
   "codemirror_mode": {
    "name": "ipython",
    "version": 3
   },
   "file_extension": ".py",
   "mimetype": "text/x-python",
   "name": "python",
   "nbconvert_exporter": "python",
   "pygments_lexer": "ipython3",
   "version": "3.6.9"
  }
 },
 "nbformat": 4,
 "nbformat_minor": 2
}
